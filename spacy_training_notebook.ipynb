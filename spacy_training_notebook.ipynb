{
 "cells": [
  {
   "cell_type": "code",
   "execution_count": null,
   "metadata": {},
   "outputs": [],
   "source": [
    "import pandas as pd\n",
    "import json\n",
    "from model import NER_MODEL"
   ]
  },
  {
   "cell_type": "code",
   "execution_count": null,
   "metadata": {},
   "outputs": [],
   "source": [
    "meta_data = {\n",
    "    # model\n",
    "    \"path_model\": \"NER_MODEL/fasttext\", \n",
    "    \"preprocess_rule\": [[\"<\\/?[^>]+(>|$)\", \" \"], \n",
    "         [u\"\\xa0|\\-|\\‐\", \" \"], \n",
    "         [u\"\\'\", \"\"],\n",
    "         [r\"([^\\d\\W]+)(\\d+[^\\s]*)\", r\"\\1 \\2\"]],\n",
    "    \n",
    "    \"train\":\n",
    "    {\n",
    "        \"path_data\": \"data/train_data_entity.csv\",\n",
    "        \"preprocess_cols\": ['lower_lpn', 'origin_lpn'],\n",
    "        \"list_cols\" : ['tag'],\n",
    "        'feature_col' : 'origin_lpn'\n",
    "    },\n",
    "    \"test\":\n",
    "    {\n",
    "        \"path_data\": \"data/test_data_entity.csv\",\n",
    "        \"preprocess_cols\": ['lower_lpn', 'origin_lpn'],\n",
    "        \"list_cols\" : ['tag'],\n",
    "        \"feature_col\" : \"origin_lpn\"\n",
    "    },\n",
    "    \"predict\":\n",
    "    {\n",
    "        \"path_data\": \"data/subbrand_data_processed.csv\",\n",
    "        \"preprocess_cols\": [\"original_name\"],\n",
    "        \"list_cols\" : [],\n",
    "        \"feature_col\" : \"original_name\",\n",
    "    },\n",
    "    \"params\":\n",
    "    {\n",
    "        \"drop\":0.4\n",
    "    }\n",
    "}"
   ]
  },
  {
   "cell_type": "code",
   "execution_count": null,
   "metadata": {},
   "outputs": [],
   "source": [
    "NER_MODEL.init_model_pretrain_vect(\"\", 'models_embed/model_embedding.vec')"
   ]
  },
  {
   "cell_type": "code",
   "execution_count": null,
   "metadata": {},
   "outputs": [],
   "source": [
    "# train \n",
    "models = NER_MODEL(meta_data, 'train')\\\n",
    "    .load_models()\\\n",
    "    .load_data(nrows=10)\\\n",
    "    .train_spacy(1, **meta_data['params'])\\\n",
    "    .save_model()"
   ]
  },
  {
   "cell_type": "code",
   "execution_count": null,
   "metadata": {},
   "outputs": [],
   "source": [
    "# #predict\n",
    "models_test = NER_MODEL(meta_data, 'test')\\\n",
    "    .load_models()\\\n",
    "    .load_data()\\\n",
    "    .evaluate(verbose=0)"
   ]
  },
  {
   "cell_type": "code",
   "execution_count": null,
   "metadata": {},
   "outputs": [],
   "source": [
    "#predict\n",
    "models_predict = NER_MODEL(meta_data, 'predict')\\\n",
    "    .load_models()\\\n",
    "    .load_data(nrows=10)\\\n",
    "    .predict()"
   ]
  },
  {
   "cell_type": "code",
   "execution_count": null,
   "metadata": {},
   "outputs": [],
   "source": [
    "# libraries\n",
    "import numpy as np\n",
    "import matplotlib.pyplot as plt\n",
    " \n",
    "# width of the bars\n",
    "barWidth = 0.3\n",
    " \n",
    "# Choose the height of the blue bars\n",
    "bars1 = [10, 9, 2]\n",
    " \n",
    "# Choose the height of the cyan bars\n",
    "bars2 = [10.8, 9.5, 4.5]\n",
    " \n",
    "# The x position of bars\n",
    "r1 = np.arange(len(bars1))\n",
    "print(r1)\n",
    "r2 = [x + barWidth for x in r1]\n",
    " \n",
    "# Create blue bars\n",
    "plt.bar(r1, bars1, width = barWidth, color = a[0], edgecolor = 'black', capsize=7, label='poacee')\n",
    " \n",
    "# Create cyan bars\n",
    "plt.bar(r2, bars2, width = barWidth, color = a[5], edgecolor = 'black', capsize=7, label='sorgho')\n",
    " \n",
    "# general layout\n",
    "plt.xticks([r + barWidth for r in range(len(bars1))], ['cond_A', 'cond_B', 'cond_C'])\n",
    "plt.ylabel('height')\n",
    "plt.legend()\n",
    " \n",
    "# Show graphic\n",
    "plt.show()\n"
   ]
  }
 ],
 "metadata": {
  "kernelspec": {
   "display_name": "Python (spacy)",
   "language": "python",
   "name": "spacy_exp"
  },
  "language_info": {
   "codemirror_mode": {
    "name": "ipython",
    "version": 3
   },
   "file_extension": ".py",
   "mimetype": "text/x-python",
   "name": "python",
   "nbconvert_exporter": "python",
   "pygments_lexer": "ipython3",
   "version": "3.6.10"
  }
 },
 "nbformat": 4,
 "nbformat_minor": 4
}
