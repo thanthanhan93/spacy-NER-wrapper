{
 "cells": [
  {
   "cell_type": "code",
   "execution_count": 158,
   "metadata": {},
   "outputs": [],
   "source": [
    "import pandas as pd\n",
    "import json\n",
    "from model import NER_MODEL"
   ]
  },
  {
   "cell_type": "code",
   "execution_count": 161,
   "metadata": {},
   "outputs": [],
   "source": [
    "import spacy\n",
    "from spacy.gold import iob_to_biluo\n",
    "import pandas as pd\n",
    "from ast import literal_eval\n",
    "import re\n",
    "import time\n",
    "import random\n",
    "from spacy_custom_vector import add_vectors\n",
    "from tqdm import tqdm\n",
    "from spacy.gold import iob_to_biluo, GoldParse, docs_to_json\n",
    "from spacy.scorer import Scorer\n",
    "from util import print_beauty_NER, prediction_to_IOB\n",
    "import json\n",
    "import os\n",
    "import subprocess\n",
    "\n",
    "class ANNOTATED_DATA:\n",
    "    def __init__(self, meta_data, mode):\n",
    "        self.META_DATA = meta_data\n",
    "        self.MODE = mode\n",
    "    \n",
    "    def load_data(self, **kwargs):\n",
    "        data_path = self.META_DATA[self.MODE]['path_data']\n",
    "        col_asList = self.META_DATA[self.MODE]['list_cols']\n",
    "        self.data = pd.read_csv(data_path, **kwargs).fillna('')\n",
    "        # convert string to list\n",
    "        for col in col_asList:\n",
    "            self.data[col] = self.data[col].apply(literal_eval)\n",
    "        return self\n",
    "    \n",
    "    def search_item(self, string):\n",
    "        return self.data[self.data[self.META_DATA[self.MODE]['feature_col']].str.contains(string)]\n",
    "    def preprocess(self):\n",
    "        start_time = time.time()\n",
    "        \n",
    "        feature_cols = self.META_DATA[self.MODE]['preprocess_cols']\n",
    "            \n",
    "        self.data[feature_cols] = self.data[feature_cols].apply(\n",
    "            lambda col: col.str.strip(), axis=0)\n",
    "\n",
    "        for item in self.META_DATA['preprocess_rule']:\n",
    "            self.data[feature_cols] = \\\n",
    "                self.data[feature_cols].apply(\n",
    "                lambda col: col.str.replace(*item), axis=0)\n",
    "\n",
    "        self.data[feature_cols] = \\\n",
    "            self.data[feature_cols].apply(\n",
    "            lambda col: col.str.replace('\\s+', ' ').str.strip(), axis=0)\n",
    "\n",
    "        print('FINISH PREPROCESS DATA : dimensions %s' %\n",
    "                    (str(self.data.shape)))\n",
    "        print(\"FINISH PREPROCESS DATA : --- %s seconds ---\" %\n",
    "                    (time.time() - start_time))\n",
    "        return self \n",
    "    \n",
    "    def preprocess_token(self, word):\n",
    "        word = word.strip()\n",
    "\n",
    "        for item in self.META_DATA['preprocess_rule']:\n",
    "            word = re.sub(*item, word)\n",
    "\n",
    "        word = re.sub('\\s+', ' ', re.sub('[^\\w\\s]',' ', word)).strip()\n",
    "        return word.lower()\n",
    "    \n",
    "    def mapping_entities_to_unprocessed_data(self, row):\n",
    "        text = row.lower_lpn\n",
    "        tags = row.tag\n",
    "        tags = sorted(row.tag, key=lambda x: x[1][0])\n",
    "        entities = []\n",
    "        for tag in tags:\n",
    "            tag_tokens = self.preprocess_token(tag[0]).split(' ')\n",
    "            tag_loc = tag[1]\n",
    "            start_loc = 0\n",
    "            end_loc = entities[-1][1] if len(entities)>0 else 0\n",
    "            flag = 1\n",
    "            try:\n",
    "                for token in tag_tokens:\n",
    "                    patterns = re.compile( r'\\b' + token + r'\\w*\\b')\n",
    "                    start_loc_new, end_loc = patterns.search(text, end_loc).span()\n",
    "                    if flag:\n",
    "                        start_loc=start_loc_new\n",
    "                        flag =0\n",
    "\n",
    "                entities.append([start_loc, end_loc, tag_loc[-1]])\n",
    "                if(end_loc-start_loc < len(' '.join(tag_tokens))):\n",
    "                    print(\"MATCHED TOKEN SORTER THAN ORIGINAL: \",\n",
    "                          text, tag,\n",
    "                          '(', start_loc, ',', end_loc, ')')\n",
    "            except:\n",
    "                print(\"MIDDLE STRING ING\", text, tag)\n",
    "\n",
    "\n",
    "        matched = 0\n",
    "        if(len(entities) == len(tags)):\n",
    "            matched = 1\n",
    "\n",
    "        start_len = len(set([item[0] for item in entities]))\n",
    "        end_len = len(set([item[1] for item in entities]))\n",
    "        ent_len = len(entities) \n",
    "        if ((start_len != ent_len) | (end_len != ent_len)):\n",
    "            print(\"DUPLICATES PROBLEM: \", text)\n",
    "            print(tags)\n",
    "            print(' |'.join([' |'.join([text[entity[0]:entity[1]],\n",
    "                                        str(entity[0]),\n",
    "                                        str(entity[1])]) for entity in entities]))\n",
    "            print('')\n",
    "\n",
    "        return pd.Series({'text':row.origin_lpn, 'entities':entities, 'match_all': matched})\n",
    "    \n",
    "    def convert_to_spacy_format(self):\n",
    "        start_time = time.time()\n",
    "        self.data = self.data.apply(self.mapping_entities_to_unprocessed_data, axis=1)\n",
    "        print(\"FINISH MAPPING TO ORIGINAL : --- %s seconds ---\" %\n",
    "                    (time.time() - start_time))\n",
    "        return self.data.apply(lambda x: [x.text, {\"entities\": x.entities}], axis=1).tolist()\n",
    "    \n",
    "    def get_data(self):\n",
    "        if (self.MODE == 'predict'):\n",
    "            return self.data\n",
    "        else:\n",
    "            return self.convert_to_spacy_format()\n",
    "        \n",
    "        \n",
    "class NER_MODEL:\n",
    "    def __init__(self, meta, mode):\n",
    "        self.META_DATA = meta\n",
    "        self.MODE = mode\n",
    "    \n",
    "    \n",
    "    def change_mode(self, mode):\n",
    "        self.MODE = mode\n",
    "     \n",
    "    \n",
    "    def load_models(self, model_path=None, init_model='de_core_news_sm'):\n",
    "        if model_path is not None:\n",
    "            self.nlp = spacy.load(model_path, disable=['tagger', 'parser'])\n",
    "            return self \n",
    "        \n",
    "        if (self.MODE == 'train'):\n",
    "            self.nlp = spacy.load(init_model, disable=[\"ner\"])\n",
    "        else:\n",
    "            self.nlp = spacy.load(self.META_DATA['path_model'], disable=['tagger', 'parser'])\n",
    "        return self\n",
    "        \n",
    "        \n",
    "    def load_data(self, **kwargs):\n",
    "        self.data = \\\n",
    "            ANNOTATED_DATA(self.META_DATA, self.MODE)\\\n",
    "                .load_data(**kwargs)\\\n",
    "                .preprocess()\n",
    "                \n",
    "        self.data = self.data.get_data()\n",
    "        return self\n",
    "    \n",
    "    \n",
    "    def train_spacy(self, iterations, log_file='tmp.log', **kwargs):\n",
    "        start_time = time.time()\n",
    "        \n",
    "        f = open(log_file, \"w\")\n",
    "        f.write(\"Now the file has more content!\")\n",
    "        f.close()\n",
    "        \n",
    "        if \"ner\" not in self.nlp.pipe_names:\n",
    "            ner = self.nlp.create_pipe(\"ner\")\n",
    "            self.nlp.add_pipe(ner, last=True)\n",
    "        else:\n",
    "            ner = self.nlp.get_pipe(\"ner\")\n",
    "       \n",
    "        # add labels\n",
    "        for _, annotations in self.data:\n",
    "             for ent in annotations.get(\"entities\"):\n",
    "                ner.add_label(ent[2])\n",
    "        \n",
    "        # get names of other pipes to disable them during training\n",
    "        other_pipes = [pipe for pipe in self.nlp.pipe_names if pipe != \"ner\"]\n",
    "        \n",
    "        # train\n",
    "        with self.nlp.disable_pipes(*other_pipes):  # only train NER\n",
    "            optimizer = self.nlp.begin_training()\n",
    "            for itn in tqdm(range(iterations)):\n",
    "                print(\"Statring iteration \" + str(itn))\n",
    "                random.shuffle(self.data)\n",
    "                losses = {}\n",
    "                for text, annotations in self.data:\n",
    "                    self.nlp.update(\n",
    "                        [text],  # batch of texts\n",
    "                        [annotations],  # batch of annotations\n",
    "                        losses=losses, \n",
    "                        sgd =optimizer,  # callable to update weights\n",
    "                        **kwargs)\n",
    "                \n",
    "                f = open(log_file, \"a\")\n",
    "                f.write(json.dumps(losses))\n",
    "                f.write('\\n')\n",
    "                f.close()\n",
    "                print(losses)\n",
    "                \n",
    "        print(\"FINISH TRAINING : --- %s seconds ---\" %\n",
    "                    (time.time() - start_time))\n",
    "        return self\n",
    "    \n",
    "    def annotate_data(self, sample):\n",
    "        doc = self.nlp(sample)\n",
    "        labels = [(i.label_, i.text) for i in doc.ents]\n",
    "        return labels \n",
    "    \n",
    "    def init_model_pretrain_vect(model_path, vec_path, lang='de'):\n",
    "        \n",
    "        cmd = 'python -m spacy init-model {} {} --vectors-loc {}'\n",
    "        print(subprocess.check_output(cmd.format(lang, model_path, vec_path),\n",
    "                                stderr=subprocess.STDOUT,\n",
    "                                shell=True).decode('utf-8'))\n",
    "        return None\n",
    "        \n",
    "    \n",
    "    def predict(self):\n",
    "        start_time = time.time()\n",
    "        def predict_map(row):\n",
    "            ner_results = self.annotate_data(row[self.META_DATA[self.MODE]['feature_col']])\n",
    "            is_brand_present = False\n",
    "            is_favour_present = False\n",
    "            ner_tokens = []\n",
    "\n",
    "            for item in ner_results:\n",
    "                if item[0] == 'Brand':\n",
    "                    is_brand_present = True\n",
    "                if item[0] == 'Flavor':\n",
    "                    is_favour_present = True\n",
    "                ner_tokens.append(item)\n",
    "\n",
    "            ner_string = ' '.join([token[1] for token in ner_tokens])\n",
    "            row['ner_tokens'] = str(ner_tokens)\n",
    "            row['ner_tokens'] = literal_eval(row['ner_tokens'])\n",
    "            row['ner_string'] = ner_string\n",
    "            row['is_brand_present'] = is_brand_present\n",
    "            row['is_favour_present'] = is_favour_present\n",
    "            return row\n",
    "\n",
    "                     \n",
    "        self.data = self.data.apply(predict_map, axis=1)\n",
    "        print(\"FINISH PREDICTION : --- %s seconds ---\" %\n",
    "                    (time.time() - start_time))\n",
    "        return self\n",
    "    \n",
    "    def save_model(self):\n",
    "        self.nlp.to_disk(self.META_DATA['path_model'])\n",
    "        return self\n",
    "    \n",
    "    def evaluate(self, verbose=1):\n",
    "        scorer = Scorer()\n",
    "        wrong_case = 0\n",
    "        for input_, annot in self.data:\n",
    "\n",
    "            doc_gold_text = self.nlp.make_doc(input_)\n",
    "            gold = GoldParse(doc_gold_text, entities=annot['entities'])\n",
    "            pred_value = self.nlp(input_)\n",
    "            #return gold\n",
    "\n",
    "            current_score = scorer.ents_f\n",
    "            scorer.score(pred_value, gold)\n",
    "            if (current_score > scorer.ents_f):\n",
    "                wrong_case +=1 \n",
    "                if (verbose==1):\n",
    "                    print_beauty_NER(prediction_to_IOB(pred_value, gold))\n",
    "                \n",
    "            current_score = scorer.ents_f\n",
    "\n",
    "        return scorer.scores#, wrong_case, len(self.data)"
   ]
  },
  {
   "cell_type": "code",
   "execution_count": 166,
   "metadata": {},
   "outputs": [],
   "source": [
    "meta_data = {\n",
    "    # model\n",
    "    \"path_model\": \"tmp/\", \n",
    "    \"preprocess_rule\": [[\"<\\/?[^>]+(>|$)\", \" \"], \n",
    "         [u\"\\xa0|\\-|\\‐\", \" \"], \n",
    "         [u\"\\'\", \"\"],\n",
    "         [r\"([^\\d\\W]+)(\\d+[^\\s]*)\", r\"\\1 \\2\"]],\n",
    "    \n",
    "    \"train\":\n",
    "    {\n",
    "        \"path_data\": \"data/train_data_entity.csv\",\n",
    "        \"preprocess_cols\": ['lower_lpn', 'origin_lpn'],\n",
    "        \"list_cols\" : ['tag'],\n",
    "        'feature_col' : 'origin_lpn'\n",
    "    },\n",
    "    \"test\":\n",
    "    {\n",
    "        \"path_data\": \"data/test_data_entity.csv\",\n",
    "        \"preprocess_cols\": ['lower_lpn', 'origin_lpn'],\n",
    "        \"list_cols\" : ['tag'],\n",
    "        \"feature_col\" : \"origin_lpn\"\n",
    "    },\n",
    "    \"predict\":\n",
    "    {\n",
    "        \"path_data\": \"data/subbrand_data_processed.csv\",\n",
    "        \"preprocess_cols\": [\"original_name\"],\n",
    "        \"list_cols\" : [],\n",
    "        \"feature_col\" : \"original_name\",\n",
    "    },\n",
    "    \"params\":\n",
    "    {\n",
    "        \"drop\":0.4\n",
    "    }\n",
    "}"
   ]
  },
  {
   "cell_type": "code",
   "execution_count": 165,
   "metadata": {},
   "outputs": [
    {
     "name": "stdout",
     "output_type": "stream",
     "text": [
      "\u001b[2K\u001b[38;5;2m✔ Successfully created model\u001b[0m\n",
      "\u001b[2K[00:00, 9709.04it/s]odels_embed/model_embedding.vec\n",
      "\u001b[38;5;2m✔ Loaded vectors from models_embed/model_embedding.vec\u001b[0m\n",
      "\u001b[38;5;2m✔ Sucessfully compiled vocab\u001b[0m\n",
      "396 entries, 9 vectors\n",
      "\n"
     ]
    }
   ],
   "source": [
    "NER_MODEL.init_model_pretrain_vect(\"init_fasttext_model_1\", 'models_embed/model_embedding.vec')"
   ]
  },
  {
   "cell_type": "code",
   "execution_count": 167,
   "metadata": {},
   "outputs": [
    {
     "name": "stderr",
     "output_type": "stream",
     "text": [
      "  0%|          | 0/70 [00:00<?, ?it/s]"
     ]
    },
    {
     "name": "stdout",
     "output_type": "stream",
     "text": [
      "FINISH PREPROCESS DATA : dimensions (10, 4)\n",
      "FINISH PREPROCESS DATA : --- 0.015692949295043945 seconds ---\n",
      "FINISH MAPPING TO ORIGINAL : --- 0.007711172103881836 seconds ---\n",
      "Statring iteration 0\n"
     ]
    },
    {
     "name": "stderr",
     "output_type": "stream",
     "text": [
      "/Users/than.an/anaconda3/envs/spacy_exp/lib/python3.6/importlib/_bootstrap.py:219: RuntimeWarning: numpy.ufunc size changed, may indicate binary incompatibility. Expected 176 from C header, got 216 from PyObject\n",
      "  return f(*args, **kwds)\n",
      "  3%|▎         | 2/70 [00:00<00:11,  5.79it/s]"
     ]
    },
    {
     "name": "stdout",
     "output_type": "stream",
     "text": [
      "{'ner': 56.15238279104233}\n",
      "Statring iteration 1\n",
      "{'ner': 37.52425326406956}\n",
      "Statring iteration 2\n"
     ]
    },
    {
     "name": "stderr",
     "output_type": "stream",
     "text": [
      "  6%|▌         | 4/70 [00:00<00:09,  6.77it/s]"
     ]
    },
    {
     "name": "stdout",
     "output_type": "stream",
     "text": [
      "{'ner': 30.919833455234766}\n",
      "Statring iteration 3\n",
      "{'ner': 26.9863973967731}\n",
      "Statring iteration 4\n"
     ]
    },
    {
     "name": "stderr",
     "output_type": "stream",
     "text": [
      "  9%|▊         | 6/70 [00:00<00:08,  7.46it/s]"
     ]
    },
    {
     "name": "stdout",
     "output_type": "stream",
     "text": [
      "{'ner': 26.170889966888353}\n",
      "Statring iteration 5\n",
      "{'ner': 25.173163368017413}\n",
      "Statring iteration 6\n"
     ]
    },
    {
     "name": "stderr",
     "output_type": "stream",
     "text": [
      " 11%|█▏        | 8/70 [00:01<00:07,  7.88it/s]"
     ]
    },
    {
     "name": "stdout",
     "output_type": "stream",
     "text": [
      "{'ner': 18.74393991586112}\n",
      "Statring iteration 7\n",
      "{'ner': 15.971026437124976}\n",
      "Statring iteration 8\n"
     ]
    },
    {
     "name": "stderr",
     "output_type": "stream",
     "text": [
      " 14%|█▍        | 10/70 [00:01<00:07,  8.05it/s]"
     ]
    },
    {
     "name": "stdout",
     "output_type": "stream",
     "text": [
      "{'ner': 16.282087165640487}\n",
      "Statring iteration 9\n",
      "{'ner': 10.872578148337517}\n",
      "Statring iteration 10\n"
     ]
    },
    {
     "name": "stderr",
     "output_type": "stream",
     "text": [
      " 17%|█▋        | 12/70 [00:01<00:07,  7.71it/s]"
     ]
    },
    {
     "name": "stdout",
     "output_type": "stream",
     "text": [
      "{'ner': 6.7379280656618095}\n",
      "Statring iteration 11\n",
      "{'ner': 10.351797093149914}\n",
      "Statring iteration 12\n"
     ]
    },
    {
     "name": "stderr",
     "output_type": "stream",
     "text": [
      " 20%|██        | 14/70 [00:01<00:07,  7.69it/s]"
     ]
    },
    {
     "name": "stdout",
     "output_type": "stream",
     "text": [
      "{'ner': 5.154987229615678}\n",
      "Statring iteration 13\n",
      "{'ner': 4.1875426292991405}\n",
      "Statring iteration 14\n"
     ]
    },
    {
     "name": "stderr",
     "output_type": "stream",
     "text": [
      " 23%|██▎       | 16/70 [00:02<00:06,  7.94it/s]"
     ]
    },
    {
     "name": "stdout",
     "output_type": "stream",
     "text": [
      "{'ner': 8.489055208947113}\n",
      "Statring iteration 15\n",
      "{'ner': 1.4938132815133274}\n",
      "Statring iteration 16\n"
     ]
    },
    {
     "name": "stderr",
     "output_type": "stream",
     "text": [
      " 26%|██▌       | 18/70 [00:02<00:06,  8.18it/s]"
     ]
    },
    {
     "name": "stdout",
     "output_type": "stream",
     "text": [
      "{'ner': 2.032694976222568}\n",
      "Statring iteration 17\n",
      "{'ner': 1.0903422178062456}\n",
      "Statring iteration 18\n"
     ]
    },
    {
     "name": "stderr",
     "output_type": "stream",
     "text": [
      " 29%|██▊       | 20/70 [00:02<00:06,  8.14it/s]"
     ]
    },
    {
     "name": "stdout",
     "output_type": "stream",
     "text": [
      "{'ner': 20.992416214665806}\n",
      "Statring iteration 19\n",
      "{'ner': 3.3051188396938675}\n",
      "Statring iteration 20\n"
     ]
    },
    {
     "name": "stderr",
     "output_type": "stream",
     "text": [
      " 31%|███▏      | 22/70 [00:02<00:05,  8.01it/s]"
     ]
    },
    {
     "name": "stdout",
     "output_type": "stream",
     "text": [
      "{'ner': 9.48600017408627}\n",
      "Statring iteration 21\n",
      "{'ner': 3.110844571614174}\n",
      "Statring iteration 22\n"
     ]
    },
    {
     "name": "stderr",
     "output_type": "stream",
     "text": [
      " 34%|███▍      | 24/70 [00:03<00:05,  7.92it/s]"
     ]
    },
    {
     "name": "stdout",
     "output_type": "stream",
     "text": [
      "{'ner': 1.866433006574351}\n",
      "Statring iteration 23\n",
      "{'ner': 3.793891287025974}\n",
      "Statring iteration 24\n"
     ]
    },
    {
     "name": "stderr",
     "output_type": "stream",
     "text": [
      " 37%|███▋      | 26/70 [00:03<00:05,  7.69it/s]"
     ]
    },
    {
     "name": "stdout",
     "output_type": "stream",
     "text": [
      "{'ner': 0.7408766842785364}\n",
      "Statring iteration 25\n",
      "{'ner': 2.7371049987114313}\n",
      "Statring iteration 26\n"
     ]
    },
    {
     "name": "stderr",
     "output_type": "stream",
     "text": [
      " 40%|████      | 28/70 [00:03<00:05,  7.93it/s]"
     ]
    },
    {
     "name": "stdout",
     "output_type": "stream",
     "text": [
      "{'ner': 0.4952998471075648}\n",
      "Statring iteration 27\n",
      "{'ner': 0.09408092803410309}\n",
      "Statring iteration 28\n"
     ]
    },
    {
     "name": "stderr",
     "output_type": "stream",
     "text": [
      " 43%|████▎     | 30/70 [00:03<00:04,  8.21it/s]"
     ]
    },
    {
     "name": "stdout",
     "output_type": "stream",
     "text": [
      "{'ner': 2.3876150475705757}\n",
      "Statring iteration 29\n",
      "{'ner': 2.0816706146230683}\n",
      "Statring iteration 30\n"
     ]
    },
    {
     "name": "stderr",
     "output_type": "stream",
     "text": [
      " 46%|████▌     | 32/70 [00:04<00:04,  8.38it/s]"
     ]
    },
    {
     "name": "stdout",
     "output_type": "stream",
     "text": [
      "{'ner': 2.084808086394334}\n",
      "Statring iteration 31\n",
      "{'ner': 2.6327196643304953}\n",
      "Statring iteration 32\n"
     ]
    },
    {
     "name": "stderr",
     "output_type": "stream",
     "text": [
      " 49%|████▊     | 34/70 [00:04<00:04,  8.05it/s]"
     ]
    },
    {
     "name": "stdout",
     "output_type": "stream",
     "text": [
      "{'ner': 0.05048444553877071}\n",
      "Statring iteration 33\n",
      "{'ner': 0.0003367935533908307}\n",
      "Statring iteration 34\n"
     ]
    },
    {
     "name": "stderr",
     "output_type": "stream",
     "text": [
      " 51%|█████▏    | 36/70 [00:04<00:04,  7.76it/s]"
     ]
    },
    {
     "name": "stdout",
     "output_type": "stream",
     "text": [
      "{'ner': 0.10532192185596129}\n",
      "Statring iteration 35\n",
      "{'ner': 0.012092979906316637}\n",
      "Statring iteration 36\n"
     ]
    },
    {
     "name": "stderr",
     "output_type": "stream",
     "text": [
      " 54%|█████▍    | 38/70 [00:04<00:03,  8.15it/s]"
     ]
    },
    {
     "name": "stdout",
     "output_type": "stream",
     "text": [
      "{'ner': 1.9136996398840444e-05}\n",
      "Statring iteration 37\n",
      "{'ner': 0.0006369081581749785}\n",
      "Statring iteration 38\n"
     ]
    },
    {
     "name": "stderr",
     "output_type": "stream",
     "text": [
      " 57%|█████▋    | 40/70 [00:05<00:03,  8.37it/s]"
     ]
    },
    {
     "name": "stdout",
     "output_type": "stream",
     "text": [
      "{'ner': 0.004175938035210095}\n",
      "Statring iteration 39\n",
      "{'ner': 3.088092891914807}\n",
      "Statring iteration 40\n"
     ]
    },
    {
     "name": "stderr",
     "output_type": "stream",
     "text": [
      " 60%|██████    | 42/70 [00:05<00:03,  7.98it/s]"
     ]
    },
    {
     "name": "stdout",
     "output_type": "stream",
     "text": [
      "{'ner': 0.00014380293227835407}\n",
      "Statring iteration 41\n",
      "{'ner': 0.06778801576167753}\n",
      "Statring iteration 42\n"
     ]
    },
    {
     "name": "stderr",
     "output_type": "stream",
     "text": [
      " 63%|██████▎   | 44/70 [00:05<00:03,  8.10it/s]"
     ]
    },
    {
     "name": "stdout",
     "output_type": "stream",
     "text": [
      "{'ner': 0.00022711405674601392}\n",
      "Statring iteration 43\n",
      "{'ner': 0.021871028527238143}\n",
      "Statring iteration 44\n"
     ]
    },
    {
     "name": "stderr",
     "output_type": "stream",
     "text": [
      " 66%|██████▌   | 46/70 [00:05<00:03,  7.65it/s]"
     ]
    },
    {
     "name": "stdout",
     "output_type": "stream",
     "text": [
      "{'ner': 1.0189886781494462}\n",
      "Statring iteration 45\n",
      "{'ner': 0.0002573341210299822}\n",
      "Statring iteration 46\n"
     ]
    },
    {
     "name": "stderr",
     "output_type": "stream",
     "text": [
      " 69%|██████▊   | 48/70 [00:06<00:02,  7.62it/s]"
     ]
    },
    {
     "name": "stdout",
     "output_type": "stream",
     "text": [
      "{'ner': 1.9945061107135096}\n",
      "Statring iteration 47\n",
      "{'ner': 0.0006638778891300733}\n",
      "Statring iteration 48\n"
     ]
    },
    {
     "name": "stderr",
     "output_type": "stream",
     "text": [
      " 71%|███████▏  | 50/70 [00:06<00:02,  7.67it/s]"
     ]
    },
    {
     "name": "stdout",
     "output_type": "stream",
     "text": [
      "{'ner': 4.950457137509216e-05}\n",
      "Statring iteration 49\n",
      "{'ner': 5.502128908381842e-05}\n",
      "Statring iteration 50\n"
     ]
    },
    {
     "name": "stderr",
     "output_type": "stream",
     "text": [
      " 74%|███████▍  | 52/70 [00:06<00:02,  7.34it/s]"
     ]
    },
    {
     "name": "stdout",
     "output_type": "stream",
     "text": [
      "{'ner': 3.860570997976838e-06}\n",
      "Statring iteration 51\n",
      "{'ner': 1.832563701350297e-06}\n",
      "Statring iteration 52\n"
     ]
    },
    {
     "name": "stderr",
     "output_type": "stream",
     "text": [
      " 77%|███████▋  | 54/70 [00:06<00:02,  7.33it/s]"
     ]
    },
    {
     "name": "stdout",
     "output_type": "stream",
     "text": [
      "{'ner': 0.0025999852844417744}\n",
      "Statring iteration 53\n",
      "{'ner': 0.025407149918342156}\n",
      "Statring iteration 54\n"
     ]
    },
    {
     "name": "stderr",
     "output_type": "stream",
     "text": [
      " 80%|████████  | 56/70 [00:07<00:02,  6.89it/s]"
     ]
    },
    {
     "name": "stdout",
     "output_type": "stream",
     "text": [
      "{'ner': 1.6217093182446443e-06}\n",
      "Statring iteration 55\n",
      "{'ner': 2.977803373921535e-05}\n",
      "Statring iteration 56\n"
     ]
    },
    {
     "name": "stderr",
     "output_type": "stream",
     "text": [
      " 83%|████████▎ | 58/70 [00:07<00:01,  6.48it/s]"
     ]
    },
    {
     "name": "stdout",
     "output_type": "stream",
     "text": [
      "{'ner': 0.003900055509119446}\n",
      "Statring iteration 57\n",
      "{'ner': 0.00014776751702045922}\n",
      "Statring iteration 58\n"
     ]
    },
    {
     "name": "stderr",
     "output_type": "stream",
     "text": [
      " 86%|████████▌ | 60/70 [00:07<00:01,  6.35it/s]"
     ]
    },
    {
     "name": "stdout",
     "output_type": "stream",
     "text": [
      "{'ner': 0.0015889365135047656}\n",
      "Statring iteration 59\n",
      "{'ner': 5.943997694699487e-09}\n",
      "Statring iteration 60\n"
     ]
    },
    {
     "name": "stderr",
     "output_type": "stream",
     "text": [
      " 89%|████████▊ | 62/70 [00:08<00:01,  6.02it/s]"
     ]
    },
    {
     "name": "stdout",
     "output_type": "stream",
     "text": [
      "{'ner': 4.036380333312323e-05}\n",
      "Statring iteration 61\n",
      "{'ner': 1.3805478980538892e-05}\n",
      "Statring iteration 62\n"
     ]
    },
    {
     "name": "stderr",
     "output_type": "stream",
     "text": [
      " 91%|█████████▏| 64/70 [00:08<00:01,  5.51it/s]"
     ]
    },
    {
     "name": "stdout",
     "output_type": "stream",
     "text": [
      "{'ner': 3.177378629848405e-08}\n",
      "Statring iteration 63\n",
      "{'ner': 2.051410907437116e-05}\n",
      "Statring iteration 64\n"
     ]
    },
    {
     "name": "stderr",
     "output_type": "stream",
     "text": [
      " 93%|█████████▎| 65/70 [00:08<00:00,  5.43it/s]"
     ]
    },
    {
     "name": "stdout",
     "output_type": "stream",
     "text": [
      "{'ner': 0.05390346388086625}\n",
      "Statring iteration 65\n"
     ]
    },
    {
     "name": "stderr",
     "output_type": "stream",
     "text": [
      " 94%|█████████▍| 66/70 [00:09<00:00,  5.19it/s]"
     ]
    },
    {
     "name": "stdout",
     "output_type": "stream",
     "text": [
      "{'ner': 0.19128101678337975}\n",
      "Statring iteration 66\n",
      "{'ner': 1.0989432649484674e-07}\n"
     ]
    },
    {
     "name": "stderr",
     "output_type": "stream",
     "text": [
      " 97%|█████████▋| 68/70 [00:09<00:00,  5.17it/s]"
     ]
    },
    {
     "name": "stdout",
     "output_type": "stream",
     "text": [
      "Statring iteration 67\n",
      "{'ner': 0.0038453805829425183}\n",
      "Statring iteration 68\n"
     ]
    },
    {
     "name": "stderr",
     "output_type": "stream",
     "text": [
      "100%|██████████| 70/70 [00:09<00:00,  7.14it/s]"
     ]
    },
    {
     "name": "stdout",
     "output_type": "stream",
     "text": [
      "{'ner': 5.039021698526423e-07}\n",
      "Statring iteration 69\n",
      "{'ner': 6.97038417949234e-08}\n",
      "FINISH TRAINING : --- 9.903287649154663 seconds ---\n"
     ]
    },
    {
     "name": "stderr",
     "output_type": "stream",
     "text": [
      "\n"
     ]
    }
   ],
   "source": [
    "#train #.add_vectors() #.train_spacy(2)\n",
    "models = NER_MODEL(meta_data, 'train')\\\n",
    "    .load_models('init_fasttext_model_1')\\\n",
    "    .load_data(nrows=10)\\\n",
    "    .train_spacy(70, **meta_data['params'])\\\n",
    "    .save_model()"
   ]
  },
  {
   "cell_type": "code",
   "execution_count": 171,
   "metadata": {},
   "outputs": [
    {
     "name": "stdout",
     "output_type": "stream",
     "text": [
      "FINISH PREPROCESS DATA : dimensions (1453, 4)\n",
      "FINISH PREPROCESS DATA : --- 0.06923699378967285 seconds ---\n",
      "FINISH MAPPING TO ORIGINAL : --- 1.074974775314331 seconds ---\n"
     ]
    }
   ],
   "source": [
    "#predict\n",
    "models_1 = NER_MODEL(meta_data, 'test')\\\n",
    "    .load_models('tmp/')\\\n",
    "    .load_data()\\\n",
    "    .evaluate(verbose=0)"
   ]
  },
  {
   "cell_type": "code",
   "execution_count": 174,
   "metadata": {},
   "outputs": [
    {
     "name": "stdout",
     "output_type": "stream",
     "text": [
      "FINISH PREPROCESS DATA : dimensions (10, 8)\n",
      "FINISH PREPROCESS DATA : --- 0.0167999267578125 seconds ---\n",
      "FINISH PREDICTION : --- 0.056791067123413086 seconds ---\n"
     ]
    }
   ],
   "source": [
    "#predict\n",
    "models_1 = NER_MODEL(meta_data, 'predict')\\\n",
    "    .load_models('tmp/')\\\n",
    "    .load_data(nrows=10)\\\n",
    "    .predict()"
   ]
  },
  {
   "cell_type": "code",
   "execution_count": 176,
   "metadata": {},
   "outputs": [
    {
     "data": {
      "text/html": [
       "<div>\n",
       "<style scoped>\n",
       "    .dataframe tbody tr th:only-of-type {\n",
       "        vertical-align: middle;\n",
       "    }\n",
       "\n",
       "    .dataframe tbody tr th {\n",
       "        vertical-align: top;\n",
       "    }\n",
       "\n",
       "    .dataframe thead th {\n",
       "        text-align: right;\n",
       "    }\n",
       "</style>\n",
       "<table border=\"1\" class=\"dataframe\">\n",
       "  <thead>\n",
       "    <tr style=\"text-align: right;\">\n",
       "      <th></th>\n",
       "      <th>Unnamed: 0</th>\n",
       "      <th>product_id</th>\n",
       "      <th>product_name</th>\n",
       "      <th>product_desc</th>\n",
       "      <th>country</th>\n",
       "      <th>processed_subbrand_name</th>\n",
       "      <th>original_name</th>\n",
       "      <th>features</th>\n",
       "      <th>ner_tokens</th>\n",
       "      <th>ner_string</th>\n",
       "      <th>is_brand_present</th>\n",
       "      <th>is_favour_present</th>\n",
       "    </tr>\n",
       "  </thead>\n",
       "  <tbody>\n",
       "    <tr>\n",
       "      <th>0</th>\n",
       "      <td>0</td>\n",
       "      <td>1354629</td>\n",
       "      <td>Coca Cola 1,0l</td>\n",
       "      <td></td>\n",
       "      <td>DE</td>\n",
       "      <td>coca cola</td>\n",
       "      <td>Coca Cola</td>\n",
       "      <td>coca cola</td>\n",
       "      <td>[(Ing, Coca)]</td>\n",
       "      <td>Coca</td>\n",
       "      <td>False</td>\n",
       "      <td>False</td>\n",
       "    </tr>\n",
       "    <tr>\n",
       "      <th>1</th>\n",
       "      <td>1</td>\n",
       "      <td>49801844</td>\n",
       "      <td>Coca Cola 1,0l</td>\n",
       "      <td></td>\n",
       "      <td>DE</td>\n",
       "      <td>coca cola</td>\n",
       "      <td>Coca Cola</td>\n",
       "      <td>coca cola</td>\n",
       "      <td>[(Ing, Coca)]</td>\n",
       "      <td>Coca</td>\n",
       "      <td>False</td>\n",
       "      <td>False</td>\n",
       "    </tr>\n",
       "    <tr>\n",
       "      <th>2</th>\n",
       "      <td>2</td>\n",
       "      <td>23939181</td>\n",
       "      <td>Mezzo-Mix 1,0l</td>\n",
       "      <td></td>\n",
       "      <td>DE</td>\n",
       "      <td>mezzo mix orange</td>\n",
       "      <td>Mezzo Mix Orange</td>\n",
       "      <td>mezzo mix</td>\n",
       "      <td>[(Ing, Mezzo), (Ing, Orange)]</td>\n",
       "      <td>Mezzo Orange</td>\n",
       "      <td>False</td>\n",
       "      <td>False</td>\n",
       "    </tr>\n",
       "    <tr>\n",
       "      <th>3</th>\n",
       "      <td>3</td>\n",
       "      <td>99142956</td>\n",
       "      <td>Coca Cola 1,0l</td>\n",
       "      <td></td>\n",
       "      <td>DE</td>\n",
       "      <td>coca cola</td>\n",
       "      <td>Coca Cola</td>\n",
       "      <td>coca cola</td>\n",
       "      <td>[(Ing, Coca)]</td>\n",
       "      <td>Coca</td>\n",
       "      <td>False</td>\n",
       "      <td>False</td>\n",
       "    </tr>\n",
       "    <tr>\n",
       "      <th>4</th>\n",
       "      <td>4</td>\n",
       "      <td>29746181</td>\n",
       "      <td>Coca Cola 1,0l</td>\n",
       "      <td></td>\n",
       "      <td>DE</td>\n",
       "      <td>coca cola</td>\n",
       "      <td>Coca Cola</td>\n",
       "      <td>coca cola</td>\n",
       "      <td>[(Ing, Coca)]</td>\n",
       "      <td>Coca</td>\n",
       "      <td>False</td>\n",
       "      <td>False</td>\n",
       "    </tr>\n",
       "    <tr>\n",
       "      <th>5</th>\n",
       "      <td>5</td>\n",
       "      <td>1178272</td>\n",
       "      <td>Coca Cola 1,0l</td>\n",
       "      <td></td>\n",
       "      <td>DE</td>\n",
       "      <td>coca cola</td>\n",
       "      <td>Coca Cola</td>\n",
       "      <td>coca cola</td>\n",
       "      <td>[(Ing, Coca)]</td>\n",
       "      <td>Coca</td>\n",
       "      <td>False</td>\n",
       "      <td>False</td>\n",
       "    </tr>\n",
       "    <tr>\n",
       "      <th>6</th>\n",
       "      <td>6</td>\n",
       "      <td>33759535</td>\n",
       "      <td>Coca Cola 1,0l</td>\n",
       "      <td></td>\n",
       "      <td>DE</td>\n",
       "      <td>coca cola</td>\n",
       "      <td>Coca Cola</td>\n",
       "      <td>coca cola</td>\n",
       "      <td>[(Ing, Coca)]</td>\n",
       "      <td>Coca</td>\n",
       "      <td>False</td>\n",
       "      <td>False</td>\n",
       "    </tr>\n",
       "    <tr>\n",
       "      <th>7</th>\n",
       "      <td>7</td>\n",
       "      <td>92043576</td>\n",
       "      <td>Coca Cola 1,0l</td>\n",
       "      <td></td>\n",
       "      <td>DE</td>\n",
       "      <td>coca cola</td>\n",
       "      <td>Coca Cola</td>\n",
       "      <td>coca cola</td>\n",
       "      <td>[(Ing, Coca)]</td>\n",
       "      <td>Coca</td>\n",
       "      <td>False</td>\n",
       "      <td>False</td>\n",
       "    </tr>\n",
       "    <tr>\n",
       "      <th>8</th>\n",
       "      <td>8</td>\n",
       "      <td>43175845</td>\n",
       "      <td>Coca Cola 1,0l</td>\n",
       "      <td></td>\n",
       "      <td>DE</td>\n",
       "      <td>coca cola</td>\n",
       "      <td>Coca Cola</td>\n",
       "      <td>coca cola</td>\n",
       "      <td>[(Ing, Coca)]</td>\n",
       "      <td>Coca</td>\n",
       "      <td>False</td>\n",
       "      <td>False</td>\n",
       "    </tr>\n",
       "    <tr>\n",
       "      <th>9</th>\n",
       "      <td>9</td>\n",
       "      <td>78556315</td>\n",
       "      <td>Fanta 0,3l</td>\n",
       "      <td></td>\n",
       "      <td>DE</td>\n",
       "      <td>fanta orange</td>\n",
       "      <td>Fanta Orange</td>\n",
       "      <td>fanta</td>\n",
       "      <td>[(Ing, Fanta), (Ing, Orange)]</td>\n",
       "      <td>Fanta Orange</td>\n",
       "      <td>False</td>\n",
       "      <td>False</td>\n",
       "    </tr>\n",
       "  </tbody>\n",
       "</table>\n",
       "</div>"
      ],
      "text/plain": [
       "   Unnamed: 0  product_id    product_name  ...    ner_string is_brand_present is_favour_present\n",
       "0           0     1354629  Coca Cola 1,0l  ...          Coca            False             False\n",
       "1           1    49801844  Coca Cola 1,0l  ...          Coca            False             False\n",
       "2           2    23939181  Mezzo-Mix 1,0l  ...  Mezzo Orange            False             False\n",
       "3           3    99142956  Coca Cola 1,0l  ...          Coca            False             False\n",
       "4           4    29746181  Coca Cola 1,0l  ...          Coca            False             False\n",
       "5           5     1178272  Coca Cola 1,0l  ...          Coca            False             False\n",
       "6           6    33759535  Coca Cola 1,0l  ...          Coca            False             False\n",
       "7           7    92043576  Coca Cola 1,0l  ...          Coca            False             False\n",
       "8           8    43175845  Coca Cola 1,0l  ...          Coca            False             False\n",
       "9           9    78556315      Fanta 0,3l  ...  Fanta Orange            False             False\n",
       "\n",
       "[10 rows x 12 columns]"
      ]
     },
     "execution_count": 176,
     "metadata": {},
     "output_type": "execute_result"
    }
   ],
   "source": [
    "models_1.data"
   ]
  },
  {
   "cell_type": "code",
   "execution_count": null,
   "metadata": {},
   "outputs": [],
   "source": []
  },
  {
   "cell_type": "code",
   "execution_count": null,
   "metadata": {},
   "outputs": [],
   "source": []
  },
  {
   "cell_type": "code",
   "execution_count": null,
   "metadata": {},
   "outputs": [],
   "source": []
  },
  {
   "cell_type": "code",
   "execution_count": null,
   "metadata": {},
   "outputs": [],
   "source": []
  },
  {
   "cell_type": "code",
   "execution_count": null,
   "metadata": {},
   "outputs": [],
   "source": []
  },
  {
   "cell_type": "code",
   "execution_count": 8,
   "metadata": {},
   "outputs": [],
   "source": [
    "# score = models_1.evaluate(verbose=0)"
   ]
  },
  {
   "cell_type": "code",
   "execution_count": 7,
   "metadata": {},
   "outputs": [],
   "source": [
    "import os\n",
    "models_path = [f for f in sorted(os.listdir('NER_MODEL'))][1:]"
   ]
  },
  {
   "cell_type": "code",
   "execution_count": 8,
   "metadata": {},
   "outputs": [],
   "source": [
    "# score.nlp.vocab.vectors.name = 'de_model.vectors'\n",
    "# a = score.nlp.get_pipe(\"ner\") \n",
    "# a.cfg['deprecation_fixes'] = {'vectors_name': 'de_model.vectors'}\n",
    "# score.nlp.meta[\"vectors\"][\"name\"] = 'de_model.vectors'\n",
    "# spacy.language._fix_pretrained_vectors_name = lambda nlp: nlp"
   ]
  },
  {
   "cell_type": "code",
   "execution_count": 9,
   "metadata": {},
   "outputs": [],
   "source": [
    "# with open('model_results.log', 'w') as f:\n",
    "#         json.dump(models_score, f)"
   ]
  },
  {
   "cell_type": "code",
   "execution_count": 10,
   "metadata": {},
   "outputs": [],
   "source": [
    "with open('model_train_results.log', 'r') as f:\n",
    "        models_score = json.load(f)"
   ]
  },
  {
   "cell_type": "code",
   "execution_count": 11,
   "metadata": {},
   "outputs": [
    {
     "name": "stdout",
     "output_type": "stream",
     "text": [
      "FINISH PREPROCESS DATA : dimensions (5813, 4)\n",
      "FINISH PREPROCESS DATA : --- 0.25594282150268555 seconds ---\n",
      "FINISH MAPPING TO ORIGINAL : --- 3.264596939086914 seconds ---\n",
      "FINISH PREPROCESS DATA : dimensions (5813, 4)\n",
      "FINISH PREPROCESS DATA : --- 0.23730802536010742 seconds ---\n",
      "FINISH MAPPING TO ORIGINAL : --- 3.4372482299804688 seconds ---\n",
      "FINISH PREPROCESS DATA : dimensions (5813, 4)\n",
      "FINISH PREPROCESS DATA : --- 0.24205374717712402 seconds ---\n",
      "FINISH MAPPING TO ORIGINAL : --- 3.2832400798797607 seconds ---\n",
      "FINISH PREPROCESS DATA : dimensions (5813, 4)\n",
      "FINISH PREPROCESS DATA : --- 0.24227023124694824 seconds ---\n",
      "FINISH MAPPING TO ORIGINAL : --- 3.3330090045928955 seconds ---\n",
      "FINISH PREPROCESS DATA : dimensions (5813, 4)\n",
      "FINISH PREPROCESS DATA : --- 0.2716810703277588 seconds ---\n",
      "FINISH MAPPING TO ORIGINAL : --- 3.5571188926696777 seconds ---\n"
     ]
    }
   ],
   "source": [
    "for model in models_path[:-2]:\n",
    "    score = NER_MODEL(meta_data, 'test')\\\n",
    "        .load_models('NER_model/'+model)\\\n",
    "        .load_data()\\\n",
    "        .evaluate(verbose=0)\n",
    "    score_ = score['ents_per_type']\n",
    "    score_['overall'] = {\n",
    "        'p': score['ents_p'],\n",
    "        'r': score['ents_r'],\n",
    "        'f':score['ents_f']}\n",
    "    models_score[model] = score_\n",
    "    \n",
    "    with open('model_train_results.log', 'w') as f:\n",
    "        json.dump(models_score, f)"
   ]
  },
  {
   "cell_type": "code",
   "execution_count": 78,
   "metadata": {},
   "outputs": [],
   "source": [
    "def get_score(model_score, key_score):\n",
    "    keys = list(model_score.keys())\n",
    "    p, r, f = [[], [], []]\n",
    "    for key in keys:\n",
    "        p_,r_,f_ = model_score[key][key_score].values()\n",
    "        p.append(p_)\n",
    "        r.append(r_)\n",
    "        f.append(f_)\n",
    "    return keys, p, r, f"
   ]
  },
  {
   "cell_type": "code",
   "execution_count": 79,
   "metadata": {},
   "outputs": [],
   "source": [
    "models_score = json.load(open('model_results.log', 'r'))"
   ]
  },
  {
   "cell_type": "code",
   "execution_count": null,
   "metadata": {},
   "outputs": [],
   "source": [
    "f_index = sorted(range(len(f)), key=lambda k: f[k])"
   ]
  },
  {
   "cell_type": "code",
   "execution_count": 150,
   "metadata": {},
   "outputs": [],
   "source": [
    "keys, p, r, f = get_score(models_score, 'overall')\n",
    "keys, p_brand, r_brand, f_brand = get_score(models_score, 'Brand')\n",
    "keys, p_brand, r_brand, f_ing = get_score(models_score, 'Ing')\n",
    "keys, p_brand, r_brand, f_favor = get_score(models_score, 'Flavor')"
   ]
  },
  {
   "cell_type": "code",
   "execution_count": 153,
   "metadata": {},
   "outputs": [
    {
     "ename": "TypeError",
     "evalue": "barh() got multiple values for argument 'width'",
     "output_type": "error",
     "traceback": [
      "\u001b[0;31m---------------------------------------------------------------------------\u001b[0m",
      "\u001b[0;31mTypeError\u001b[0m                                 Traceback (most recent call last)",
      "\u001b[0;32m<ipython-input-153-a8cea841a382>\u001b[0m in \u001b[0;36m<module>\u001b[0;34m\u001b[0m\n\u001b[1;32m     10\u001b[0m \u001b[0;34m\u001b[0m\u001b[0m\n\u001b[1;32m     11\u001b[0m \u001b[0;31m# Create horizontal bars\u001b[0m\u001b[0;34m\u001b[0m\u001b[0;34m\u001b[0m\u001b[0;34m\u001b[0m\u001b[0m\n\u001b[0;32m---> 12\u001b[0;31m \u001b[0mplt\u001b[0m\u001b[0;34m.\u001b[0m\u001b[0mbarh\u001b[0m\u001b[0;34m(\u001b[0m\u001b[0my_pos\u001b[0m\u001b[0;34m,\u001b[0m \u001b[0mheight\u001b[0m\u001b[0;34m,\u001b[0m \u001b[0malpha\u001b[0m\u001b[0;34m=\u001b[0m\u001b[0;36m0.8\u001b[0m\u001b[0;34m,\u001b[0m \u001b[0mwidth\u001b[0m\u001b[0;34m=\u001b[0m\u001b[0;36m1\u001b[0m\u001b[0;34m)\u001b[0m\u001b[0;34m\u001b[0m\u001b[0;34m\u001b[0m\u001b[0m\n\u001b[0m\u001b[1;32m     13\u001b[0m \u001b[0;34m\u001b[0m\u001b[0m\n\u001b[1;32m     14\u001b[0m \u001b[0;31m# Create names on the y-axis\u001b[0m\u001b[0;34m\u001b[0m\u001b[0;34m\u001b[0m\u001b[0;34m\u001b[0m\u001b[0m\n",
      "\u001b[0;31mTypeError\u001b[0m: barh() got multiple values for argument 'width'"
     ]
    },
    {
     "data": {
      "text/plain": [
       "<Figure size 720x720 with 0 Axes>"
      ]
     },
     "metadata": {},
     "output_type": "display_data"
    }
   ],
   "source": [
    "import numpy as np\n",
    "import matplotlib.pyplot as plt\n",
    " \n",
    "f_index = sorted(range(len(f)), key=lambda k: f[k])\n",
    "\n",
    "fig = plt.figure()\n",
    "bars = [keys[i] for i in f_index]\n",
    "height = [f[i] for i in f_index]\n",
    "y_pos = np.arange(len(bars))\n",
    " \n",
    "# Create horizontal bars\n",
    "plt.barh(y_pos, height, alpha=0.8)\n",
    " \n",
    "# Create names on the y-axis\n",
    "plt.xlabel('f-1 score')\n",
    "plt.yticks(y_pos, bars)\n",
    "plt.xlim(95, 99)\n",
    "plt.tight_layout()\n",
    "\n",
    "plt.savefig('f1_overall.png')"
   ]
  },
  {
   "cell_type": "code",
   "execution_count": 142,
   "metadata": {},
   "outputs": [],
   "source": [
    "df = pd.DataFrame([keys, f_brand, f_ing, f_favor, f]).T\n",
    "df.columns = ['model', 'Brand', 'Ing', 'Favour', 'overall']"
   ]
  },
  {
   "cell_type": "code",
   "execution_count": 143,
   "metadata": {},
   "outputs": [],
   "source": [
    "df = df.sort_values(by='overall', ascending=False).drop('overall', axis=1)"
   ]
  },
  {
   "cell_type": "code",
   "execution_count": 144,
   "metadata": {},
   "outputs": [],
   "source": [
    "keys = ['Brand', 'Ing', 'Favour']\n",
    "df = pd.melt(df, id_vars='model', var_name='categories', value_vars=keys, value_name='f1')"
   ]
  },
  {
   "cell_type": "code",
   "execution_count": 149,
   "metadata": {},
   "outputs": [
    {
     "data": {
      "image/png": "[encoded data removed]",
      "text/plain": [
       "<Figure size 1080x720 with 1 Axes>"
      ]
     },
     "metadata": {},
     "output_type": "display_data"
    }
   ],
   "source": [
    "sns.set(style=\"whitegrid\")\n",
    "\n",
    "fig, ax = plt.subplots(figsize=(15, 10))\n",
    "# Draw a nested barplot to show survival for class and sex\n",
    "g = sns.barplot(ax=ax, x=\"model\", y=\"f1\", hue=\"categories\", data=df, palette=\"muted\", ci=None)\n",
    "sns.despine(left=True, ax=ax, fig= fig)\n",
    "ax.set_ylim(94, 100)\n",
    "fig.tight_layout()\n",
    "fig.savefig('f1_categories.png')"
   ]
  },
  {
   "cell_type": "code",
   "execution_count": 45,
   "metadata": {},
   "outputs": [
    {
     "name": "stderr",
     "output_type": "stream",
     "text": [
      "/Users/than.an/anaconda3/envs/spacy_exp/lib/python3.6/importlib/_bootstrap.py:219: RuntimeWarning: numpy.ufunc size changed, may indicate binary incompatibility. Expected 192 from C header, got 216 from PyObject\n",
      "  return f(*args, **kwds)\n",
      "/Users/than.an/anaconda3/envs/spacy_exp/lib/python3.6/importlib/_bootstrap.py:219: RuntimeWarning: numpy.ufunc size changed, may indicate binary incompatibility. Expected 192 from C header, got 216 from PyObject\n",
      "  return f(*args, **kwds)\n",
      "/Users/than.an/anaconda3/envs/spacy_exp/lib/python3.6/importlib/_bootstrap.py:219: RuntimeWarning: numpy.ufunc size changed, may indicate binary incompatibility. Expected 192 from C header, got 216 from PyObject\n",
      "  return f(*args, **kwds)\n"
     ]
    }
   ],
   "source": [
    "import numpy as np\n",
    "import matplotlib.pyplot as plt\n",
    "from matplotlib import cm\n",
    "from matplotlib.colors import ListedColormap, LinearSegmentedColormap\n",
    "import seaborn as sns\n",
    "viridis = cm.get_cmap('viridis', 12)\n",
    "a = viridis(np.linspace(0, 1, 12))"
   ]
  },
  {
   "cell_type": "code",
   "execution_count": 61,
   "metadata": {},
   "outputs": [
    {
     "name": "stdout",
     "output_type": "stream",
     "text": [
      "[0 1 2]\n"
     ]
    },
    {
     "data": {
      "image/png": "[encoded data removed]",
      "text/plain": [
       "<Figure size 432x288 with 1 Axes>"
      ]
     },
     "metadata": {
      "needs_background": "light"
     },
     "output_type": "display_data"
    }
   ],
   "source": [
    "# libraries\n",
    "import numpy as np\n",
    "import matplotlib.pyplot as plt\n",
    " \n",
    "# width of the bars\n",
    "barWidth = 0.3\n",
    " \n",
    "# Choose the height of the blue bars\n",
    "bars1 = [10, 9, 2]\n",
    " \n",
    "# Choose the height of the cyan bars\n",
    "bars2 = [10.8, 9.5, 4.5]\n",
    " \n",
    "# The x position of bars\n",
    "r1 = np.arange(len(bars1))\n",
    "print(r1)\n",
    "r2 = [x + barWidth for x in r1]\n",
    " \n",
    "# Create blue bars\n",
    "plt.bar(r1, bars1, width = barWidth, color = a[0], edgecolor = 'black', capsize=7, label='poacee')\n",
    " \n",
    "# Create cyan bars\n",
    "plt.bar(r2, bars2, width = barWidth, color = a[5], edgecolor = 'black', capsize=7, label='sorgho')\n",
    " \n",
    "# general layout\n",
    "plt.xticks([r + barWidth for r in range(len(bars1))], ['cond_A', 'cond_B', 'cond_C'])\n",
    "plt.ylabel('height')\n",
    "plt.legend()\n",
    " \n",
    "# Show graphic\n",
    "plt.show()\n"
   ]
  },
  {
   "cell_type": "code",
   "execution_count": 141,
   "metadata": {},
   "outputs": [
    {
     "data": {
      "image/png": "[encoded data removed]",
      "text/plain": [
       "<Figure size 720x720 with 1 Axes>"
      ]
     },
     "metadata": {},
     "output_type": "display_data"
    }
   ],
   "source": [
    "import matplotlib.pyplot as plt\n",
    "import seaborn as sns\n",
    "\n",
    "params = {'legend.fontsize': 'x-large',\n",
    "          'figure.figsize': (10, 10),\n",
    "         'axes.labelsize': 'x-large',\n",
    "         'axes.titlesize':'x-large',\n",
    "         'xtick.labelsize':'x-large',\n",
    "         'ytick.labelsize':'x-large'}\n",
    "plt.rcParams.update(params)\n",
    "\n",
    "\n",
    "df = pd.DataFrame(zip(keys, p, r), columns=['models', 'preicision', 'recall'])\n",
    "\n",
    "fig, ax = plt.subplots()\n",
    "# basic plot\n",
    "p1=sns.scatterplot(ax=ax,\n",
    "                data=df, \n",
    "               x=\"preicision\",\n",
    "               y=\"recall\", \n",
    "               marker=\"o\", \n",
    "               color=\"darkblue\", \n",
    "               s=100)\n",
    "\n",
    "mean_x, mean_y = df.preicision.mean(), df.preicision.mean()\n",
    "ax.axvline(mean_x, color='brown')\n",
    "ax.axhline(mean_y, color='brown')\n",
    "pl_ = sns.scatterplot(ax=ax,\n",
    "                x=[mean_x],\n",
    "               y=[mean_y], \n",
    "               marker=\"o\", \n",
    "               color=\"brown\", \n",
    "               s=100)\n",
    "pl_.text(mean_x+0.01,\n",
    "        mean_y+0.01, \n",
    "         'MEAN', \n",
    "         horizontalalignment='left', \n",
    "         size='large', \n",
    "         color='brown', \n",
    "         weight='semibold')\n",
    "\n",
    "left, width = 0.01, 1\n",
    "bottom, height = 0.01, 1\n",
    "right = width -left\n",
    "top = -bottom +height\n",
    "\n",
    "shift = 0.03\n",
    "ax.text(left, bottom, 'Low Precision',\n",
    "        horizontalalignment='left',\n",
    "        verticalalignment='bottom',\n",
    "        transform=ax.transAxes, \n",
    "        fontsize = 'x-large',\n",
    "        color='red',\n",
    "        weight='semibold')\n",
    "ax.text(left, bottom+shift, 'Low Recall',\n",
    "        horizontalalignment='left',\n",
    "        verticalalignment='bottom',\n",
    "        transform=ax.transAxes, \n",
    "        fontsize = 'x-large',\n",
    "        color='red',\n",
    "        weight='semibold')\n",
    "\n",
    "ax.text(left, top-shift, 'Low Precision',\n",
    "        horizontalalignment='left',\n",
    "        verticalalignment='top',\n",
    "        transform=ax.transAxes, \n",
    "        fontsize = 'x-large',\n",
    "        color='red',\n",
    "        weight='semibold')\n",
    "ax.text(left, top, 'High Recall',\n",
    "        horizontalalignment='left',\n",
    "        verticalalignment='top',\n",
    "        transform=ax.transAxes, \n",
    "        fontsize = 'x-large',\n",
    "        color='green',\n",
    "        weight='semibold')\n",
    "\n",
    "#ax.text(left, bottom, 'gamma', color='red')\n",
    "#ax.text(0.01, .18, r'omega', {'color': 'b', 'fontsize': 20})\n",
    "\n",
    "#pl.set_xticklabels(rotation=90)\n",
    "\n",
    "# add annotations one by one with a loop\n",
    "for line in range(0,df.shape[0]):\n",
    "     p1.text(df.preicision[line], \n",
    "             df.recall[line]-0.04, \n",
    "             df['models'][line], \n",
    "             horizontalalignment='center', \n",
    "             size='medium', \n",
    "             color='dimgrey', \n",
    "             weight='semibold')\n",
    " \n",
    "#plt.show()\n",
    "plt.tight_layout()\n",
    "plt.gcf().savefig('r_p_overall.png')#, dpi=fig.dpi)"
   ]
  },
  {
   "cell_type": "code",
   "execution_count": null,
   "metadata": {},
   "outputs": [],
   "source": []
  }
 ],
 "metadata": {
  "kernelspec": {
   "display_name": "Python (spacy)",
   "language": "python",
   "name": "spacy_exp"
  },
  "language_info": {
   "codemirror_mode": {
    "name": "ipython",
    "version": 3
   },
   "file_extension": ".py",
   "mimetype": "text/x-python",
   "name": "python",
   "nbconvert_exporter": "python",
   "pygments_lexer": "ipython3",
   "version": "3.6.10"
  }
 },
 "nbformat": 4,
 "nbformat_minor": 4
}
